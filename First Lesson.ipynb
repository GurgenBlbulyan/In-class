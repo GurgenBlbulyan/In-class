{
 "cells": [
  {
   "cell_type": "code",
   "execution_count": 1,
   "metadata": {},
   "outputs": [],
   "source": [
    "course=\"Intro to python\""
   ]
  },
  {
   "cell_type": "code",
   "execution_count": 2,
   "metadata": {},
   "outputs": [],
   "source": [
    "student=\"Gurgen Blbulyan\""
   ]
  },
  {
   "cell_type": "code",
   "execution_count": 3,
   "metadata": {},
   "outputs": [],
   "source": [
    "grade=23"
   ]
  },
  {
   "cell_type": "code",
   "execution_count": 4,
   "metadata": {},
   "outputs": [],
   "source": [
    "Phthonexpert=False\n"
   ]
  },
  {
   "cell_type": "code",
   "execution_count": 5,
   "metadata": {},
   "outputs": [
    {
     "name": "stdout",
     "output_type": "stream",
     "text": [
      "course Intro to python\n"
     ]
    }
   ],
   "source": [
    "print(\"course\",course)"
   ]
  },
  {
   "cell_type": "code",
   "execution_count": 6,
   "metadata": {},
   "outputs": [
    {
     "name": "stdout",
     "output_type": "stream",
     "text": [
      "student Gurgen Blbulyan\n"
     ]
    }
   ],
   "source": [
    "print (\"student\",student)"
   ]
  },
  {
   "cell_type": "code",
   "execution_count": 8,
   "metadata": {},
   "outputs": [
    {
     "name": "stdout",
     "output_type": "stream",
     "text": [
      "grade 23\n",
      "Phthonexpert False\n"
     ]
    }
   ],
   "source": [
    "print(\"grade\",grade)\n",
    "print(\"Phthonexpert\",Phthonexpert)\n"
   ]
  },
  {
   "cell_type": "code",
   "execution_count": 9,
   "metadata": {
    "scrolled": true
   },
   "outputs": [
    {
     "name": "stdout",
     "output_type": "stream",
     "text": [
      "course Intro to python\n",
      "student Gurgen Blbulyan\n",
      "grade 23\n",
      "Phthonexpert False\n"
     ]
    }
   ],
   "source": [
    "course,student,grade,phthonexpert=[\"Intro to python\",\"Gurgen Blbulyan\",23,False]\n",
    "print(\"course\",course)\n",
    "print (\"student\",student)\n",
    "print(\"grade\",grade)\n",
    "print(\"Phthonexpert\",phthonexpert)\n"
   ]
  },
  {
   "cell_type": "code",
   "execution_count": 10,
   "metadata": {},
   "outputs": [],
   "source": [
    "import math"
   ]
  },
  {
   "cell_type": "code",
   "execution_count": 13,
   "metadata": {},
   "outputs": [
    {
     "name": "stdout",
     "output_type": "stream",
     "text": [
      "5\n"
     ]
    }
   ],
   "source": [
    "AB,AC=[3,4]\n",
    "BC=int(math.sqrt(AB**2+AC**2))\n",
    "The_htpotenuse_of_the_triangle_ABC=BC\n",
    "print(The_htpotenuse_of_the_triangle_ABC)"
   ]
  },
  {
   "cell_type": "code",
   "execution_count": null,
   "metadata": {},
   "outputs": [],
   "source": []
  }
 ],
 "metadata": {
  "kernelspec": {
   "display_name": "Python 3",
   "language": "python",
   "name": "python3"
  },
  "language_info": {
   "codemirror_mode": {
    "name": "ipython",
    "version": 3
   },
   "file_extension": ".py",
   "mimetype": "text/x-python",
   "name": "python",
   "nbconvert_exporter": "python",
   "pygments_lexer": "ipython3",
   "version": "3.6.4"
  }
 },
 "nbformat": 4,
 "nbformat_minor": 2
}
